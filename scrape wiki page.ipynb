{
    "nbformat_minor": 1, 
    "cells": [
        {
            "execution_count": 2, 
            "cell_type": "code", 
            "metadata": {}, 
            "outputs": [], 
            "source": "from bs4 import BeautifulSoup"
        }, 
        {
            "execution_count": 3, 
            "cell_type": "code", 
            "metadata": {}, 
            "outputs": [], 
            "source": "import requests\nimport csv\nimport pandas as pd\nimport numpy as np\nfrom numpy.random import randn\nimport lxml.html as lh"
        }, 
        {
            "execution_count": 4, 
            "cell_type": "code", 
            "metadata": {}, 
            "outputs": [], 
            "source": "source = requests.get('https://en.wikipedia.org/wiki/List_of_postal_codes_of_Canada:_M')\ndoc = lh.fromstring(source.content)\ntr_elements = doc.xpath('//tr')"
        }, 
        {
            "execution_count": 5, 
            "cell_type": "code", 
            "metadata": {}, 
            "outputs": [
                {
                    "execution_count": 5, 
                    "metadata": {}, 
                    "data": {
                        "text/plain": "[3, 3, 3, 3, 3, 3, 3, 3, 3, 3]"
                    }, 
                    "output_type": "execute_result"
                }
            ], 
            "source": "[len(T) for T in tr_elements[:10]]\n"
        }, 
        {
            "execution_count": 6, 
            "cell_type": "code", 
            "metadata": {}, 
            "outputs": [], 
            "source": "#create empth list\ncol = []\ni = 0"
        }, 
        {
            "execution_count": 7, 
            "cell_type": "code", 
            "metadata": {}, 
            "outputs": [
                {
                    "output_type": "stream", 
                    "name": "stdout", 
                    "text": "1 Postcode\n2 Borough\n3 Neighbourhood\n\n"
                }
            ], 
            "source": "#for each row, store each first element (header) and an empty list\nfor t in tr_elements[0]:\n    i+=1\n    name=t.text_content()\n    print(i,name)\n    col.append((name,[]))"
        }, 
        {
            "execution_count": 8, 
            "cell_type": "code", 
            "metadata": {}, 
            "outputs": [], 
            "source": "for j in range(1,len(tr_elements)):\n    T = tr_elements[j]\n    \n    if len(T)!=3:\n        break\n    \n    i = 0\n    for t in T.iterchildren():\n        data=t.text_content()\n        if i >0:\n            try:\n                data=int(data)\n            except:\n                pass\n        col[i][1].append(data)\n        i+=1"
        }, 
        {
            "execution_count": 9, 
            "cell_type": "code", 
            "metadata": {}, 
            "outputs": [
                {
                    "execution_count": 9, 
                    "metadata": {}, 
                    "data": {
                        "text/plain": "[289, 289, 289]"
                    }, 
                    "output_type": "execute_result"
                }
            ], 
            "source": "[len(C) for (title,C) in col]"
        }, 
        {
            "execution_count": 10, 
            "cell_type": "code", 
            "metadata": {}, 
            "outputs": [], 
            "source": "Dict = {title:column for (title,column) in col}\ndf = pd.DataFrame(Dict)"
        }, 
        {
            "execution_count": 11, 
            "cell_type": "code", 
            "metadata": {}, 
            "outputs": [
                {
                    "execution_count": 11, 
                    "metadata": {}, 
                    "data": {
                        "text/html": "<div>\n<style scoped>\n    .dataframe tbody tr th:only-of-type {\n        vertical-align: middle;\n    }\n\n    .dataframe tbody tr th {\n        vertical-align: top;\n    }\n\n    .dataframe thead th {\n        text-align: right;\n    }\n</style>\n<table border=\"1\" class=\"dataframe\">\n  <thead>\n    <tr style=\"text-align: right;\">\n      <th></th>\n      <th>Borough</th>\n      <th>Neighbourhood</th>\n      <th>Postcode</th>\n    </tr>\n  </thead>\n  <tbody>\n    <tr>\n      <th>0</th>\n      <td>Not assigned</td>\n      <td>Not assigned\\n</td>\n      <td>M1A</td>\n    </tr>\n    <tr>\n      <th>1</th>\n      <td>Not assigned</td>\n      <td>Not assigned\\n</td>\n      <td>M2A</td>\n    </tr>\n    <tr>\n      <th>2</th>\n      <td>North York</td>\n      <td>Parkwoods\\n</td>\n      <td>M3A</td>\n    </tr>\n    <tr>\n      <th>3</th>\n      <td>North York</td>\n      <td>Victoria Village\\n</td>\n      <td>M4A</td>\n    </tr>\n    <tr>\n      <th>4</th>\n      <td>Downtown Toronto</td>\n      <td>Harbourfront\\n</td>\n      <td>M5A</td>\n    </tr>\n  </tbody>\n</table>\n</div>", 
                        "text/plain": "            Borough     Neighbourhood\\n Postcode\n0      Not assigned      Not assigned\\n      M1A\n1      Not assigned      Not assigned\\n      M2A\n2        North York         Parkwoods\\n      M3A\n3        North York  Victoria Village\\n      M4A\n4  Downtown Toronto      Harbourfront\\n      M5A"
                    }, 
                    "output_type": "execute_result"
                }
            ], 
            "source": "df.head()"
        }, 
        {
            "execution_count": 12, 
            "cell_type": "code", 
            "metadata": {
                "scrolled": false
            }, 
            "outputs": [], 
            "source": "df['PostalCode']=df['Postcode']\n    "
        }, 
        {
            "execution_count": 13, 
            "cell_type": "code", 
            "metadata": {}, 
            "outputs": [
                {
                    "execution_count": 13, 
                    "metadata": {}, 
                    "data": {
                        "text/html": "<div>\n<style scoped>\n    .dataframe tbody tr th:only-of-type {\n        vertical-align: middle;\n    }\n\n    .dataframe tbody tr th {\n        vertical-align: top;\n    }\n\n    .dataframe thead th {\n        text-align: right;\n    }\n</style>\n<table border=\"1\" class=\"dataframe\">\n  <thead>\n    <tr style=\"text-align: right;\">\n      <th></th>\n      <th>Borough</th>\n      <th>Neighbourhood</th>\n      <th>Postcode</th>\n      <th>PostalCode</th>\n    </tr>\n  </thead>\n  <tbody>\n    <tr>\n      <th>0</th>\n      <td>Not assigned</td>\n      <td>Not assigned\\n</td>\n      <td>M1A</td>\n      <td>M1A</td>\n    </tr>\n    <tr>\n      <th>1</th>\n      <td>Not assigned</td>\n      <td>Not assigned\\n</td>\n      <td>M2A</td>\n      <td>M2A</td>\n    </tr>\n    <tr>\n      <th>2</th>\n      <td>North York</td>\n      <td>Parkwoods\\n</td>\n      <td>M3A</td>\n      <td>M3A</td>\n    </tr>\n    <tr>\n      <th>3</th>\n      <td>North York</td>\n      <td>Victoria Village\\n</td>\n      <td>M4A</td>\n      <td>M4A</td>\n    </tr>\n    <tr>\n      <th>4</th>\n      <td>Downtown Toronto</td>\n      <td>Harbourfront\\n</td>\n      <td>M5A</td>\n      <td>M5A</td>\n    </tr>\n  </tbody>\n</table>\n</div>", 
                        "text/plain": "            Borough     Neighbourhood\\n Postcode PostalCode\n0      Not assigned      Not assigned\\n      M1A        M1A\n1      Not assigned      Not assigned\\n      M2A        M2A\n2        North York         Parkwoods\\n      M3A        M3A\n3        North York  Victoria Village\\n      M4A        M4A\n4  Downtown Toronto      Harbourfront\\n      M5A        M5A"
                    }, 
                    "output_type": "execute_result"
                }
            ], 
            "source": "df.head()"
        }, 
        {
            "execution_count": 14, 
            "cell_type": "code", 
            "metadata": {}, 
            "outputs": [], 
            "source": "df.drop('Postcode',axis=1,inplace=True)"
        }, 
        {
            "execution_count": 15, 
            "cell_type": "code", 
            "metadata": {}, 
            "outputs": [
                {
                    "execution_count": 15, 
                    "metadata": {}, 
                    "data": {
                        "text/html": "<div>\n<style scoped>\n    .dataframe tbody tr th:only-of-type {\n        vertical-align: middle;\n    }\n\n    .dataframe tbody tr th {\n        vertical-align: top;\n    }\n\n    .dataframe thead th {\n        text-align: right;\n    }\n</style>\n<table border=\"1\" class=\"dataframe\">\n  <thead>\n    <tr style=\"text-align: right;\">\n      <th></th>\n      <th>Borough</th>\n      <th>Neighbourhood</th>\n      <th>PostalCode</th>\n    </tr>\n  </thead>\n  <tbody>\n    <tr>\n      <th>0</th>\n      <td>Not assigned</td>\n      <td>Not assigned\\n</td>\n      <td>M1A</td>\n    </tr>\n    <tr>\n      <th>1</th>\n      <td>Not assigned</td>\n      <td>Not assigned\\n</td>\n      <td>M2A</td>\n    </tr>\n    <tr>\n      <th>2</th>\n      <td>North York</td>\n      <td>Parkwoods\\n</td>\n      <td>M3A</td>\n    </tr>\n    <tr>\n      <th>3</th>\n      <td>North York</td>\n      <td>Victoria Village\\n</td>\n      <td>M4A</td>\n    </tr>\n    <tr>\n      <th>4</th>\n      <td>Downtown Toronto</td>\n      <td>Harbourfront\\n</td>\n      <td>M5A</td>\n    </tr>\n  </tbody>\n</table>\n</div>", 
                        "text/plain": "            Borough     Neighbourhood\\n PostalCode\n0      Not assigned      Not assigned\\n        M1A\n1      Not assigned      Not assigned\\n        M2A\n2        North York         Parkwoods\\n        M3A\n3        North York  Victoria Village\\n        M4A\n4  Downtown Toronto      Harbourfront\\n        M5A"
                    }, 
                    "output_type": "execute_result"
                }
            ], 
            "source": "df.head()"
        }, 
        {
            "execution_count": 16, 
            "cell_type": "code", 
            "metadata": {}, 
            "outputs": [], 
            "source": "df['Neighbourhood'] = df['Neighbourhood\\n']"
        }, 
        {
            "execution_count": 17, 
            "cell_type": "code", 
            "metadata": {}, 
            "outputs": [
                {
                    "execution_count": 17, 
                    "metadata": {}, 
                    "data": {
                        "text/html": "<div>\n<style scoped>\n    .dataframe tbody tr th:only-of-type {\n        vertical-align: middle;\n    }\n\n    .dataframe tbody tr th {\n        vertical-align: top;\n    }\n\n    .dataframe thead th {\n        text-align: right;\n    }\n</style>\n<table border=\"1\" class=\"dataframe\">\n  <thead>\n    <tr style=\"text-align: right;\">\n      <th></th>\n      <th>Borough</th>\n      <th>Neighbourhood</th>\n      <th>PostalCode</th>\n      <th>Neighbourhood</th>\n    </tr>\n  </thead>\n  <tbody>\n    <tr>\n      <th>0</th>\n      <td>Not assigned</td>\n      <td>Not assigned\\n</td>\n      <td>M1A</td>\n      <td>Not assigned\\n</td>\n    </tr>\n    <tr>\n      <th>1</th>\n      <td>Not assigned</td>\n      <td>Not assigned\\n</td>\n      <td>M2A</td>\n      <td>Not assigned\\n</td>\n    </tr>\n    <tr>\n      <th>2</th>\n      <td>North York</td>\n      <td>Parkwoods\\n</td>\n      <td>M3A</td>\n      <td>Parkwoods\\n</td>\n    </tr>\n    <tr>\n      <th>3</th>\n      <td>North York</td>\n      <td>Victoria Village\\n</td>\n      <td>M4A</td>\n      <td>Victoria Village\\n</td>\n    </tr>\n    <tr>\n      <th>4</th>\n      <td>Downtown Toronto</td>\n      <td>Harbourfront\\n</td>\n      <td>M5A</td>\n      <td>Harbourfront\\n</td>\n    </tr>\n  </tbody>\n</table>\n</div>", 
                        "text/plain": "            Borough     Neighbourhood\\n PostalCode       Neighbourhood\n0      Not assigned      Not assigned\\n        M1A      Not assigned\\n\n1      Not assigned      Not assigned\\n        M2A      Not assigned\\n\n2        North York         Parkwoods\\n        M3A         Parkwoods\\n\n3        North York  Victoria Village\\n        M4A  Victoria Village\\n\n4  Downtown Toronto      Harbourfront\\n        M5A      Harbourfront\\n"
                    }, 
                    "output_type": "execute_result"
                }
            ], 
            "source": "df.head()"
        }, 
        {
            "execution_count": 18, 
            "cell_type": "code", 
            "metadata": {}, 
            "outputs": [], 
            "source": "df.drop('Neighbourhood\\n',axis=1,inplace=True)"
        }, 
        {
            "execution_count": 19, 
            "cell_type": "code", 
            "metadata": {}, 
            "outputs": [
                {
                    "execution_count": 19, 
                    "metadata": {}, 
                    "data": {
                        "text/html": "<div>\n<style scoped>\n    .dataframe tbody tr th:only-of-type {\n        vertical-align: middle;\n    }\n\n    .dataframe tbody tr th {\n        vertical-align: top;\n    }\n\n    .dataframe thead th {\n        text-align: right;\n    }\n</style>\n<table border=\"1\" class=\"dataframe\">\n  <thead>\n    <tr style=\"text-align: right;\">\n      <th></th>\n      <th>Borough</th>\n      <th>PostalCode</th>\n      <th>Neighbourhood</th>\n    </tr>\n  </thead>\n  <tbody>\n    <tr>\n      <th>0</th>\n      <td>Not assigned</td>\n      <td>M1A</td>\n      <td>Not assigned\\n</td>\n    </tr>\n    <tr>\n      <th>1</th>\n      <td>Not assigned</td>\n      <td>M2A</td>\n      <td>Not assigned\\n</td>\n    </tr>\n    <tr>\n      <th>2</th>\n      <td>North York</td>\n      <td>M3A</td>\n      <td>Parkwoods\\n</td>\n    </tr>\n    <tr>\n      <th>3</th>\n      <td>North York</td>\n      <td>M4A</td>\n      <td>Victoria Village\\n</td>\n    </tr>\n    <tr>\n      <th>4</th>\n      <td>Downtown Toronto</td>\n      <td>M5A</td>\n      <td>Harbourfront\\n</td>\n    </tr>\n  </tbody>\n</table>\n</div>", 
                        "text/plain": "            Borough PostalCode       Neighbourhood\n0      Not assigned        M1A      Not assigned\\n\n1      Not assigned        M2A      Not assigned\\n\n2        North York        M3A         Parkwoods\\n\n3        North York        M4A  Victoria Village\\n\n4  Downtown Toronto        M5A      Harbourfront\\n"
                    }, 
                    "output_type": "execute_result"
                }
            ], 
            "source": "df.head()"
        }, 
        {
            "execution_count": 20, 
            "cell_type": "code", 
            "metadata": {}, 
            "outputs": [
                {
                    "execution_count": 20, 
                    "metadata": {}, 
                    "data": {
                        "text/plain": "'not assigned'"
                    }, 
                    "output_type": "execute_result"
                }
            ], 
            "source": "'not assigned\\n'.split('\\n')[0]"
        }, 
        {
            "execution_count": 21, 
            "cell_type": "code", 
            "metadata": {}, 
            "outputs": [], 
            "source": "df['Neighbourhood'] = df['Neighbourhood'].apply(lambda x: x.split('\\n')[0])"
        }, 
        {
            "execution_count": 22, 
            "cell_type": "code", 
            "metadata": {}, 
            "outputs": [
                {
                    "execution_count": 22, 
                    "metadata": {}, 
                    "data": {
                        "text/html": "<div>\n<style scoped>\n    .dataframe tbody tr th:only-of-type {\n        vertical-align: middle;\n    }\n\n    .dataframe tbody tr th {\n        vertical-align: top;\n    }\n\n    .dataframe thead th {\n        text-align: right;\n    }\n</style>\n<table border=\"1\" class=\"dataframe\">\n  <thead>\n    <tr style=\"text-align: right;\">\n      <th></th>\n      <th>Borough</th>\n      <th>PostalCode</th>\n      <th>Neighbourhood</th>\n    </tr>\n  </thead>\n  <tbody>\n    <tr>\n      <th>0</th>\n      <td>Not assigned</td>\n      <td>M1A</td>\n      <td>Not assigned</td>\n    </tr>\n    <tr>\n      <th>1</th>\n      <td>Not assigned</td>\n      <td>M2A</td>\n      <td>Not assigned</td>\n    </tr>\n    <tr>\n      <th>2</th>\n      <td>North York</td>\n      <td>M3A</td>\n      <td>Parkwoods</td>\n    </tr>\n    <tr>\n      <th>3</th>\n      <td>North York</td>\n      <td>M4A</td>\n      <td>Victoria Village</td>\n    </tr>\n    <tr>\n      <th>4</th>\n      <td>Downtown Toronto</td>\n      <td>M5A</td>\n      <td>Harbourfront</td>\n    </tr>\n  </tbody>\n</table>\n</div>", 
                        "text/plain": "            Borough PostalCode     Neighbourhood\n0      Not assigned        M1A      Not assigned\n1      Not assigned        M2A      Not assigned\n2        North York        M3A         Parkwoods\n3        North York        M4A  Victoria Village\n4  Downtown Toronto        M5A      Harbourfront"
                    }, 
                    "output_type": "execute_result"
                }
            ], 
            "source": "df.head()"
        }, 
        {
            "execution_count": 23, 
            "cell_type": "code", 
            "metadata": {}, 
            "outputs": [
                {
                    "output_type": "stream", 
                    "name": "stdout", 
                    "text": "<class 'pandas.core.frame.DataFrame'>\nRangeIndex: 289 entries, 0 to 288\nData columns (total 3 columns):\nBorough          289 non-null object\nPostalCode       289 non-null object\nNeighbourhood    289 non-null object\ndtypes: object(3)\nmemory usage: 6.9+ KB\n"
                }
            ], 
            "source": "df.info()"
        }, 
        {
            "execution_count": 24, 
            "cell_type": "code", 
            "metadata": {}, 
            "outputs": [], 
            "source": "cdf = df[df['Borough']!='Not assigned']"
        }, 
        {
            "execution_count": 25, 
            "cell_type": "code", 
            "metadata": {}, 
            "outputs": [
                {
                    "output_type": "stream", 
                    "name": "stdout", 
                    "text": "<class 'pandas.core.frame.DataFrame'>\nInt64Index: 212 entries, 2 to 287\nData columns (total 3 columns):\nBorough          212 non-null object\nPostalCode       212 non-null object\nNeighbourhood    212 non-null object\ndtypes: object(3)\nmemory usage: 6.6+ KB\n"
                }
            ], 
            "source": "cdf.info()"
        }, 
        {
            "execution_count": 26, 
            "cell_type": "code", 
            "metadata": {}, 
            "outputs": [
                {
                    "execution_count": 26, 
                    "metadata": {}, 
                    "data": {
                        "text/html": "<div>\n<style scoped>\n    .dataframe tbody tr th:only-of-type {\n        vertical-align: middle;\n    }\n\n    .dataframe tbody tr th {\n        vertical-align: top;\n    }\n\n    .dataframe thead th {\n        text-align: right;\n    }\n</style>\n<table border=\"1\" class=\"dataframe\">\n  <thead>\n    <tr style=\"text-align: right;\">\n      <th></th>\n      <th>Borough</th>\n      <th>PostalCode</th>\n      <th>Neighbourhood</th>\n    </tr>\n  </thead>\n  <tbody>\n    <tr>\n      <th>2</th>\n      <td>North York</td>\n      <td>M3A</td>\n      <td>Parkwoods</td>\n    </tr>\n    <tr>\n      <th>3</th>\n      <td>North York</td>\n      <td>M4A</td>\n      <td>Victoria Village</td>\n    </tr>\n    <tr>\n      <th>4</th>\n      <td>Downtown Toronto</td>\n      <td>M5A</td>\n      <td>Harbourfront</td>\n    </tr>\n    <tr>\n      <th>5</th>\n      <td>Downtown Toronto</td>\n      <td>M5A</td>\n      <td>Regent Park</td>\n    </tr>\n    <tr>\n      <th>6</th>\n      <td>North York</td>\n      <td>M6A</td>\n      <td>Lawrence Heights</td>\n    </tr>\n  </tbody>\n</table>\n</div>", 
                        "text/plain": "            Borough PostalCode     Neighbourhood\n2        North York        M3A         Parkwoods\n3        North York        M4A  Victoria Village\n4  Downtown Toronto        M5A      Harbourfront\n5  Downtown Toronto        M5A       Regent Park\n6        North York        M6A  Lawrence Heights"
                    }, 
                    "output_type": "execute_result"
                }
            ], 
            "source": "cdf.head()"
        }, 
        {
            "execution_count": 27, 
            "cell_type": "code", 
            "metadata": {}, 
            "outputs": [], 
            "source": "cdf.reset_index(inplace = True)"
        }, 
        {
            "execution_count": 28, 
            "cell_type": "code", 
            "metadata": {}, 
            "outputs": [
                {
                    "output_type": "stream", 
                    "name": "stderr", 
                    "text": "/opt/conda/envs/DSX-Python35/lib/python3.5/site-packages/ipykernel/__main__.py:1: SettingWithCopyWarning: \nA value is trying to be set on a copy of a slice from a DataFrame\n\nSee the caveats in the documentation: http://pandas.pydata.org/pandas-docs/stable/indexing.html#indexing-view-versus-copy\n  if __name__ == '__main__':\n"
                }
            ], 
            "source": "cdf.drop('index',1,inplace=True)"
        }, 
        {
            "execution_count": 29, 
            "cell_type": "code", 
            "metadata": {}, 
            "outputs": [
                {
                    "execution_count": 29, 
                    "metadata": {}, 
                    "data": {
                        "text/html": "<div>\n<style scoped>\n    .dataframe tbody tr th:only-of-type {\n        vertical-align: middle;\n    }\n\n    .dataframe tbody tr th {\n        vertical-align: top;\n    }\n\n    .dataframe thead th {\n        text-align: right;\n    }\n</style>\n<table border=\"1\" class=\"dataframe\">\n  <thead>\n    <tr style=\"text-align: right;\">\n      <th></th>\n      <th>Borough</th>\n      <th>PostalCode</th>\n      <th>Neighbourhood</th>\n    </tr>\n  </thead>\n  <tbody>\n    <tr>\n      <th>0</th>\n      <td>North York</td>\n      <td>M3A</td>\n      <td>Parkwoods</td>\n    </tr>\n    <tr>\n      <th>1</th>\n      <td>North York</td>\n      <td>M4A</td>\n      <td>Victoria Village</td>\n    </tr>\n    <tr>\n      <th>2</th>\n      <td>Downtown Toronto</td>\n      <td>M5A</td>\n      <td>Harbourfront</td>\n    </tr>\n    <tr>\n      <th>3</th>\n      <td>Downtown Toronto</td>\n      <td>M5A</td>\n      <td>Regent Park</td>\n    </tr>\n    <tr>\n      <th>4</th>\n      <td>North York</td>\n      <td>M6A</td>\n      <td>Lawrence Heights</td>\n    </tr>\n    <tr>\n      <th>5</th>\n      <td>North York</td>\n      <td>M6A</td>\n      <td>Lawrence Manor</td>\n    </tr>\n    <tr>\n      <th>6</th>\n      <td>Queen's Park</td>\n      <td>M7A</td>\n      <td>Not assigned</td>\n    </tr>\n    <tr>\n      <th>7</th>\n      <td>Etobicoke</td>\n      <td>M9A</td>\n      <td>Islington Avenue</td>\n    </tr>\n    <tr>\n      <th>8</th>\n      <td>Scarborough</td>\n      <td>M1B</td>\n      <td>Rouge</td>\n    </tr>\n    <tr>\n      <th>9</th>\n      <td>Scarborough</td>\n      <td>M1B</td>\n      <td>Malvern</td>\n    </tr>\n    <tr>\n      <th>10</th>\n      <td>North York</td>\n      <td>M3B</td>\n      <td>Don Mills North</td>\n    </tr>\n    <tr>\n      <th>11</th>\n      <td>East York</td>\n      <td>M4B</td>\n      <td>Woodbine Gardens</td>\n    </tr>\n    <tr>\n      <th>12</th>\n      <td>East York</td>\n      <td>M4B</td>\n      <td>Parkview Hill</td>\n    </tr>\n    <tr>\n      <th>13</th>\n      <td>Downtown Toronto</td>\n      <td>M5B</td>\n      <td>Ryerson</td>\n    </tr>\n    <tr>\n      <th>14</th>\n      <td>Downtown Toronto</td>\n      <td>M5B</td>\n      <td>Garden District</td>\n    </tr>\n    <tr>\n      <th>15</th>\n      <td>North York</td>\n      <td>M6B</td>\n      <td>Glencairn</td>\n    </tr>\n    <tr>\n      <th>16</th>\n      <td>Etobicoke</td>\n      <td>M9B</td>\n      <td>Cloverdale</td>\n    </tr>\n    <tr>\n      <th>17</th>\n      <td>Etobicoke</td>\n      <td>M9B</td>\n      <td>Islington</td>\n    </tr>\n    <tr>\n      <th>18</th>\n      <td>Etobicoke</td>\n      <td>M9B</td>\n      <td>Martin Grove</td>\n    </tr>\n    <tr>\n      <th>19</th>\n      <td>Etobicoke</td>\n      <td>M9B</td>\n      <td>Princess Gardens</td>\n    </tr>\n    <tr>\n      <th>20</th>\n      <td>Etobicoke</td>\n      <td>M9B</td>\n      <td>West Deane Park</td>\n    </tr>\n    <tr>\n      <th>21</th>\n      <td>Scarborough</td>\n      <td>M1C</td>\n      <td>Highland Creek</td>\n    </tr>\n    <tr>\n      <th>22</th>\n      <td>Scarborough</td>\n      <td>M1C</td>\n      <td>Rouge Hill</td>\n    </tr>\n    <tr>\n      <th>23</th>\n      <td>Scarborough</td>\n      <td>M1C</td>\n      <td>Port Union</td>\n    </tr>\n    <tr>\n      <th>24</th>\n      <td>North York</td>\n      <td>M3C</td>\n      <td>Flemingdon Park</td>\n    </tr>\n    <tr>\n      <th>25</th>\n      <td>North York</td>\n      <td>M3C</td>\n      <td>Don Mills South</td>\n    </tr>\n    <tr>\n      <th>26</th>\n      <td>East York</td>\n      <td>M4C</td>\n      <td>Woodbine Heights</td>\n    </tr>\n    <tr>\n      <th>27</th>\n      <td>Downtown Toronto</td>\n      <td>M5C</td>\n      <td>St. James Town</td>\n    </tr>\n    <tr>\n      <th>28</th>\n      <td>York</td>\n      <td>M6C</td>\n      <td>Humewood-Cedarvale</td>\n    </tr>\n    <tr>\n      <th>29</th>\n      <td>Etobicoke</td>\n      <td>M9C</td>\n      <td>Bloordale Gardens</td>\n    </tr>\n    <tr>\n      <th>...</th>\n      <td>...</td>\n      <td>...</td>\n      <td>...</td>\n    </tr>\n    <tr>\n      <th>182</th>\n      <td>Scarborough</td>\n      <td>M1W</td>\n      <td>L'Amoreaux West</td>\n    </tr>\n    <tr>\n      <th>183</th>\n      <td>Scarborough</td>\n      <td>M1W</td>\n      <td>Steeles West</td>\n    </tr>\n    <tr>\n      <th>184</th>\n      <td>Downtown Toronto</td>\n      <td>M4W</td>\n      <td>Rosedale</td>\n    </tr>\n    <tr>\n      <th>185</th>\n      <td>Downtown Toronto</td>\n      <td>M5W</td>\n      <td>Stn A PO Boxes 25 The Esplanade</td>\n    </tr>\n    <tr>\n      <th>186</th>\n      <td>Etobicoke</td>\n      <td>M8W</td>\n      <td>Alderwood</td>\n    </tr>\n    <tr>\n      <th>187</th>\n      <td>Etobicoke</td>\n      <td>M8W</td>\n      <td>Long Branch</td>\n    </tr>\n    <tr>\n      <th>188</th>\n      <td>Etobicoke</td>\n      <td>M9W</td>\n      <td>Northwest</td>\n    </tr>\n    <tr>\n      <th>189</th>\n      <td>Scarborough</td>\n      <td>M1X</td>\n      <td>Upper Rouge</td>\n    </tr>\n    <tr>\n      <th>190</th>\n      <td>Downtown Toronto</td>\n      <td>M4X</td>\n      <td>Cabbagetown</td>\n    </tr>\n    <tr>\n      <th>191</th>\n      <td>Downtown Toronto</td>\n      <td>M4X</td>\n      <td>St. James Town</td>\n    </tr>\n    <tr>\n      <th>192</th>\n      <td>Downtown Toronto</td>\n      <td>M5X</td>\n      <td>First Canadian Place</td>\n    </tr>\n    <tr>\n      <th>193</th>\n      <td>Downtown Toronto</td>\n      <td>M5X</td>\n      <td>Underground city</td>\n    </tr>\n    <tr>\n      <th>194</th>\n      <td>Etobicoke</td>\n      <td>M8X</td>\n      <td>The Kingsway</td>\n    </tr>\n    <tr>\n      <th>195</th>\n      <td>Etobicoke</td>\n      <td>M8X</td>\n      <td>Montgomery Road</td>\n    </tr>\n    <tr>\n      <th>196</th>\n      <td>Etobicoke</td>\n      <td>M8X</td>\n      <td>Old Mill North</td>\n    </tr>\n    <tr>\n      <th>197</th>\n      <td>Downtown Toronto</td>\n      <td>M4Y</td>\n      <td>Church and Wellesley</td>\n    </tr>\n    <tr>\n      <th>198</th>\n      <td>East Toronto</td>\n      <td>M7Y</td>\n      <td>Business reply mail Processing Centre969 Eastern</td>\n    </tr>\n    <tr>\n      <th>199</th>\n      <td>Etobicoke</td>\n      <td>M8Y</td>\n      <td>Humber Bay</td>\n    </tr>\n    <tr>\n      <th>200</th>\n      <td>Etobicoke</td>\n      <td>M8Y</td>\n      <td>King's Mill Park</td>\n    </tr>\n    <tr>\n      <th>201</th>\n      <td>Etobicoke</td>\n      <td>M8Y</td>\n      <td>Kingsway Park South East</td>\n    </tr>\n    <tr>\n      <th>202</th>\n      <td>Etobicoke</td>\n      <td>M8Y</td>\n      <td>Mimico NE</td>\n    </tr>\n    <tr>\n      <th>203</th>\n      <td>Etobicoke</td>\n      <td>M8Y</td>\n      <td>Old Mill South</td>\n    </tr>\n    <tr>\n      <th>204</th>\n      <td>Etobicoke</td>\n      <td>M8Y</td>\n      <td>The Queensway East</td>\n    </tr>\n    <tr>\n      <th>205</th>\n      <td>Etobicoke</td>\n      <td>M8Y</td>\n      <td>Royal York South East</td>\n    </tr>\n    <tr>\n      <th>206</th>\n      <td>Etobicoke</td>\n      <td>M8Y</td>\n      <td>Sunnylea</td>\n    </tr>\n    <tr>\n      <th>207</th>\n      <td>Etobicoke</td>\n      <td>M8Z</td>\n      <td>Kingsway Park South West</td>\n    </tr>\n    <tr>\n      <th>208</th>\n      <td>Etobicoke</td>\n      <td>M8Z</td>\n      <td>Mimico NW</td>\n    </tr>\n    <tr>\n      <th>209</th>\n      <td>Etobicoke</td>\n      <td>M8Z</td>\n      <td>The Queensway West</td>\n    </tr>\n    <tr>\n      <th>210</th>\n      <td>Etobicoke</td>\n      <td>M8Z</td>\n      <td>Royal York South West</td>\n    </tr>\n    <tr>\n      <th>211</th>\n      <td>Etobicoke</td>\n      <td>M8Z</td>\n      <td>South of Bloor</td>\n    </tr>\n  </tbody>\n</table>\n<p>212 rows \u00d7 3 columns</p>\n</div>", 
                        "text/plain": "              Borough PostalCode  \\\n0          North York        M3A   \n1          North York        M4A   \n2    Downtown Toronto        M5A   \n3    Downtown Toronto        M5A   \n4          North York        M6A   \n5          North York        M6A   \n6        Queen's Park        M7A   \n7           Etobicoke        M9A   \n8         Scarborough        M1B   \n9         Scarborough        M1B   \n10         North York        M3B   \n11          East York        M4B   \n12          East York        M4B   \n13   Downtown Toronto        M5B   \n14   Downtown Toronto        M5B   \n15         North York        M6B   \n16          Etobicoke        M9B   \n17          Etobicoke        M9B   \n18          Etobicoke        M9B   \n19          Etobicoke        M9B   \n20          Etobicoke        M9B   \n21        Scarborough        M1C   \n22        Scarborough        M1C   \n23        Scarborough        M1C   \n24         North York        M3C   \n25         North York        M3C   \n26          East York        M4C   \n27   Downtown Toronto        M5C   \n28               York        M6C   \n29          Etobicoke        M9C   \n..                ...        ...   \n182       Scarborough        M1W   \n183       Scarborough        M1W   \n184  Downtown Toronto        M4W   \n185  Downtown Toronto        M5W   \n186         Etobicoke        M8W   \n187         Etobicoke        M8W   \n188         Etobicoke        M9W   \n189       Scarborough        M1X   \n190  Downtown Toronto        M4X   \n191  Downtown Toronto        M4X   \n192  Downtown Toronto        M5X   \n193  Downtown Toronto        M5X   \n194         Etobicoke        M8X   \n195         Etobicoke        M8X   \n196         Etobicoke        M8X   \n197  Downtown Toronto        M4Y   \n198      East Toronto        M7Y   \n199         Etobicoke        M8Y   \n200         Etobicoke        M8Y   \n201         Etobicoke        M8Y   \n202         Etobicoke        M8Y   \n203         Etobicoke        M8Y   \n204         Etobicoke        M8Y   \n205         Etobicoke        M8Y   \n206         Etobicoke        M8Y   \n207         Etobicoke        M8Z   \n208         Etobicoke        M8Z   \n209         Etobicoke        M8Z   \n210         Etobicoke        M8Z   \n211         Etobicoke        M8Z   \n\n                                        Neighbourhood  \n0                                           Parkwoods  \n1                                    Victoria Village  \n2                                        Harbourfront  \n3                                         Regent Park  \n4                                    Lawrence Heights  \n5                                      Lawrence Manor  \n6                                        Not assigned  \n7                                    Islington Avenue  \n8                                               Rouge  \n9                                             Malvern  \n10                                    Don Mills North  \n11                                   Woodbine Gardens  \n12                                      Parkview Hill  \n13                                            Ryerson  \n14                                    Garden District  \n15                                          Glencairn  \n16                                         Cloverdale  \n17                                          Islington  \n18                                       Martin Grove  \n19                                   Princess Gardens  \n20                                    West Deane Park  \n21                                     Highland Creek  \n22                                         Rouge Hill  \n23                                         Port Union  \n24                                    Flemingdon Park  \n25                                    Don Mills South  \n26                                   Woodbine Heights  \n27                                     St. James Town  \n28                                 Humewood-Cedarvale  \n29                                  Bloordale Gardens  \n..                                                ...  \n182                                   L'Amoreaux West  \n183                                      Steeles West  \n184                                          Rosedale  \n185                   Stn A PO Boxes 25 The Esplanade  \n186                                         Alderwood  \n187                                       Long Branch  \n188                                         Northwest  \n189                                       Upper Rouge  \n190                                       Cabbagetown  \n191                                    St. James Town  \n192                              First Canadian Place  \n193                                  Underground city  \n194                                      The Kingsway  \n195                                   Montgomery Road  \n196                                    Old Mill North  \n197                              Church and Wellesley  \n198  Business reply mail Processing Centre969 Eastern  \n199                                        Humber Bay  \n200                                  King's Mill Park  \n201                          Kingsway Park South East  \n202                                         Mimico NE  \n203                                    Old Mill South  \n204                                The Queensway East  \n205                             Royal York South East  \n206                                          Sunnylea  \n207                          Kingsway Park South West  \n208                                         Mimico NW  \n209                                The Queensway West  \n210                             Royal York South West  \n211                                    South of Bloor  \n\n[212 rows x 3 columns]"
                    }, 
                    "output_type": "execute_result"
                }
            ], 
            "source": "cdf"
        }, 
        {
            "execution_count": 30, 
            "cell_type": "code", 
            "metadata": {}, 
            "outputs": [
                {
                    "execution_count": 30, 
                    "metadata": {}, 
                    "data": {
                        "text/html": "<div>\n<style scoped>\n    .dataframe tbody tr th:only-of-type {\n        vertical-align: middle;\n    }\n\n    .dataframe tbody tr th {\n        vertical-align: top;\n    }\n\n    .dataframe thead th {\n        text-align: right;\n    }\n</style>\n<table border=\"1\" class=\"dataframe\">\n  <thead>\n    <tr style=\"text-align: right;\">\n      <th></th>\n      <th>Borough</th>\n      <th>PostalCode</th>\n      <th>Neighbourhood</th>\n    </tr>\n  </thead>\n  <tbody>\n    <tr>\n      <th>6</th>\n      <td>Queen's Park</td>\n      <td>M7A</td>\n      <td>Not assigned</td>\n    </tr>\n  </tbody>\n</table>\n</div>", 
                        "text/plain": "        Borough PostalCode Neighbourhood\n6  Queen's Park        M7A  Not assigned"
                    }, 
                    "output_type": "execute_result"
                }
            ], 
            "source": "cdf[cdf['Neighbourhood']=='Not assigned']"
        }, 
        {
            "execution_count": 31, 
            "cell_type": "code", 
            "metadata": {}, 
            "outputs": [
                {
                    "execution_count": 31, 
                    "metadata": {}, 
                    "data": {
                        "text/html": "<div>\n<style scoped>\n    .dataframe tbody tr th:only-of-type {\n        vertical-align: middle;\n    }\n\n    .dataframe tbody tr th {\n        vertical-align: top;\n    }\n\n    .dataframe thead th {\n        text-align: right;\n    }\n</style>\n<table border=\"1\" class=\"dataframe\">\n  <thead>\n    <tr style=\"text-align: right;\">\n      <th></th>\n      <th>Borough</th>\n      <th>PostalCode</th>\n      <th>Neighbourhood</th>\n    </tr>\n  </thead>\n  <tbody>\n    <tr>\n      <th>0</th>\n      <td>North York</td>\n      <td>M3A</td>\n      <td>Parkwoods</td>\n    </tr>\n    <tr>\n      <th>1</th>\n      <td>North York</td>\n      <td>M4A</td>\n      <td>Victoria Village</td>\n    </tr>\n    <tr>\n      <th>2</th>\n      <td>Downtown Toronto</td>\n      <td>M5A</td>\n      <td>Harbourfront</td>\n    </tr>\n    <tr>\n      <th>3</th>\n      <td>Downtown Toronto</td>\n      <td>M5A</td>\n      <td>Regent Park</td>\n    </tr>\n    <tr>\n      <th>4</th>\n      <td>North York</td>\n      <td>M6A</td>\n      <td>Lawrence Heights</td>\n    </tr>\n    <tr>\n      <th>5</th>\n      <td>North York</td>\n      <td>M6A</td>\n      <td>Lawrence Manor</td>\n    </tr>\n    <tr>\n      <th>6</th>\n      <td>Queen's Park</td>\n      <td>M7A</td>\n      <td>Not assigned</td>\n    </tr>\n    <tr>\n      <th>7</th>\n      <td>Etobicoke</td>\n      <td>M9A</td>\n      <td>Islington Avenue</td>\n    </tr>\n    <tr>\n      <th>8</th>\n      <td>Scarborough</td>\n      <td>M1B</td>\n      <td>Rouge</td>\n    </tr>\n    <tr>\n      <th>9</th>\n      <td>Scarborough</td>\n      <td>M1B</td>\n      <td>Malvern</td>\n    </tr>\n  </tbody>\n</table>\n</div>", 
                        "text/plain": "            Borough PostalCode     Neighbourhood\n0        North York        M3A         Parkwoods\n1        North York        M4A  Victoria Village\n2  Downtown Toronto        M5A      Harbourfront\n3  Downtown Toronto        M5A       Regent Park\n4        North York        M6A  Lawrence Heights\n5        North York        M6A    Lawrence Manor\n6      Queen's Park        M7A      Not assigned\n7         Etobicoke        M9A  Islington Avenue\n8       Scarborough        M1B             Rouge\n9       Scarborough        M1B           Malvern"
                    }, 
                    "output_type": "execute_result"
                }
            ], 
            "source": "cdf.head(10)"
        }, 
        {
            "execution_count": 32, 
            "cell_type": "code", 
            "metadata": {}, 
            "outputs": [], 
            "source": "cdf.at[6,'Neighbourhood'] = \"Queen's Park\""
        }, 
        {
            "execution_count": 33, 
            "cell_type": "code", 
            "metadata": {}, 
            "outputs": [
                {
                    "execution_count": 33, 
                    "metadata": {}, 
                    "data": {
                        "text/html": "<div>\n<style scoped>\n    .dataframe tbody tr th:only-of-type {\n        vertical-align: middle;\n    }\n\n    .dataframe tbody tr th {\n        vertical-align: top;\n    }\n\n    .dataframe thead th {\n        text-align: right;\n    }\n</style>\n<table border=\"1\" class=\"dataframe\">\n  <thead>\n    <tr style=\"text-align: right;\">\n      <th></th>\n      <th>Borough</th>\n      <th>PostalCode</th>\n      <th>Neighbourhood</th>\n    </tr>\n  </thead>\n  <tbody>\n    <tr>\n      <th>0</th>\n      <td>North York</td>\n      <td>M3A</td>\n      <td>Parkwoods</td>\n    </tr>\n    <tr>\n      <th>1</th>\n      <td>North York</td>\n      <td>M4A</td>\n      <td>Victoria Village</td>\n    </tr>\n    <tr>\n      <th>2</th>\n      <td>Downtown Toronto</td>\n      <td>M5A</td>\n      <td>Harbourfront</td>\n    </tr>\n    <tr>\n      <th>3</th>\n      <td>Downtown Toronto</td>\n      <td>M5A</td>\n      <td>Regent Park</td>\n    </tr>\n    <tr>\n      <th>4</th>\n      <td>North York</td>\n      <td>M6A</td>\n      <td>Lawrence Heights</td>\n    </tr>\n    <tr>\n      <th>5</th>\n      <td>North York</td>\n      <td>M6A</td>\n      <td>Lawrence Manor</td>\n    </tr>\n    <tr>\n      <th>6</th>\n      <td>Queen's Park</td>\n      <td>M7A</td>\n      <td>Queen's Park</td>\n    </tr>\n    <tr>\n      <th>7</th>\n      <td>Etobicoke</td>\n      <td>M9A</td>\n      <td>Islington Avenue</td>\n    </tr>\n    <tr>\n      <th>8</th>\n      <td>Scarborough</td>\n      <td>M1B</td>\n      <td>Rouge</td>\n    </tr>\n    <tr>\n      <th>9</th>\n      <td>Scarborough</td>\n      <td>M1B</td>\n      <td>Malvern</td>\n    </tr>\n  </tbody>\n</table>\n</div>", 
                        "text/plain": "            Borough PostalCode     Neighbourhood\n0        North York        M3A         Parkwoods\n1        North York        M4A  Victoria Village\n2  Downtown Toronto        M5A      Harbourfront\n3  Downtown Toronto        M5A       Regent Park\n4        North York        M6A  Lawrence Heights\n5        North York        M6A    Lawrence Manor\n6      Queen's Park        M7A      Queen's Park\n7         Etobicoke        M9A  Islington Avenue\n8       Scarborough        M1B             Rouge\n9       Scarborough        M1B           Malvern"
                    }, 
                    "output_type": "execute_result"
                }
            ], 
            "source": "cdf.head(10)"
        }, 
        {
            "execution_count": 34, 
            "cell_type": "code", 
            "metadata": {}, 
            "outputs": [], 
            "source": "cdf.at[9,'Neighbourhood']='Malvern'"
        }, 
        {
            "execution_count": 35, 
            "cell_type": "code", 
            "metadata": {}, 
            "outputs": [
                {
                    "execution_count": 35, 
                    "metadata": {}, 
                    "data": {
                        "text/html": "<div>\n<style scoped>\n    .dataframe tbody tr th:only-of-type {\n        vertical-align: middle;\n    }\n\n    .dataframe tbody tr th {\n        vertical-align: top;\n    }\n\n    .dataframe thead th {\n        text-align: right;\n    }\n</style>\n<table border=\"1\" class=\"dataframe\">\n  <thead>\n    <tr style=\"text-align: right;\">\n      <th></th>\n      <th>Borough</th>\n      <th>PostalCode</th>\n      <th>Neighbourhood</th>\n    </tr>\n  </thead>\n  <tbody>\n    <tr>\n      <th>0</th>\n      <td>North York</td>\n      <td>M3A</td>\n      <td>Parkwoods</td>\n    </tr>\n    <tr>\n      <th>1</th>\n      <td>North York</td>\n      <td>M4A</td>\n      <td>Victoria Village</td>\n    </tr>\n    <tr>\n      <th>2</th>\n      <td>Downtown Toronto</td>\n      <td>M5A</td>\n      <td>Harbourfront</td>\n    </tr>\n    <tr>\n      <th>3</th>\n      <td>Downtown Toronto</td>\n      <td>M5A</td>\n      <td>Regent Park</td>\n    </tr>\n    <tr>\n      <th>4</th>\n      <td>North York</td>\n      <td>M6A</td>\n      <td>Lawrence Heights</td>\n    </tr>\n    <tr>\n      <th>5</th>\n      <td>North York</td>\n      <td>M6A</td>\n      <td>Lawrence Manor</td>\n    </tr>\n    <tr>\n      <th>6</th>\n      <td>Queen's Park</td>\n      <td>M7A</td>\n      <td>Queen's Park</td>\n    </tr>\n    <tr>\n      <th>7</th>\n      <td>Etobicoke</td>\n      <td>M9A</td>\n      <td>Islington Avenue</td>\n    </tr>\n    <tr>\n      <th>8</th>\n      <td>Scarborough</td>\n      <td>M1B</td>\n      <td>Rouge</td>\n    </tr>\n    <tr>\n      <th>9</th>\n      <td>Scarborough</td>\n      <td>M1B</td>\n      <td>Malvern</td>\n    </tr>\n  </tbody>\n</table>\n</div>", 
                        "text/plain": "            Borough PostalCode     Neighbourhood\n0        North York        M3A         Parkwoods\n1        North York        M4A  Victoria Village\n2  Downtown Toronto        M5A      Harbourfront\n3  Downtown Toronto        M5A       Regent Park\n4        North York        M6A  Lawrence Heights\n5        North York        M6A    Lawrence Manor\n6      Queen's Park        M7A      Queen's Park\n7         Etobicoke        M9A  Islington Avenue\n8       Scarborough        M1B             Rouge\n9       Scarborough        M1B           Malvern"
                    }, 
                    "output_type": "execute_result"
                }
            ], 
            "source": "cdf.head(10)"
        }, 
        {
            "execution_count": 54, 
            "cell_type": "code", 
            "metadata": {}, 
            "outputs": [
                {
                    "output_type": "stream", 
                    "name": "stderr", 
                    "text": "/opt/conda/envs/DSX-Python35/lib/python3.5/site-packages/ipykernel/__main__.py:1: SettingWithCopyWarning: \nA value is trying to be set on a copy of a slice from a DataFrame.\nTry using .loc[row_indexer,col_indexer] = value instead\n\nSee the caveats in the documentation: http://pandas.pydata.org/pandas-docs/stable/indexing.html#indexing-view-versus-copy\n  if __name__ == '__main__':\n"
                }
            ], 
            "source": "cdf['Neighbourhood']=cdf['Neighbourhood'].apply(lambda x: x+',')"
        }, 
        {
            "execution_count": 55, 
            "cell_type": "code", 
            "metadata": {}, 
            "outputs": [
                {
                    "execution_count": 55, 
                    "metadata": {}, 
                    "data": {
                        "text/html": "<div>\n<style scoped>\n    .dataframe tbody tr th:only-of-type {\n        vertical-align: middle;\n    }\n\n    .dataframe tbody tr th {\n        vertical-align: top;\n    }\n\n    .dataframe thead th {\n        text-align: right;\n    }\n</style>\n<table border=\"1\" class=\"dataframe\">\n  <thead>\n    <tr style=\"text-align: right;\">\n      <th></th>\n      <th>Borough</th>\n      <th>PostalCode</th>\n      <th>Neighbourhood</th>\n    </tr>\n  </thead>\n  <tbody>\n    <tr>\n      <th>0</th>\n      <td>North York</td>\n      <td>M3A</td>\n      <td>Parkwoods,</td>\n    </tr>\n    <tr>\n      <th>1</th>\n      <td>North York</td>\n      <td>M4A</td>\n      <td>Victoria Village,</td>\n    </tr>\n    <tr>\n      <th>2</th>\n      <td>Downtown Toronto</td>\n      <td>M5A</td>\n      <td>Harbourfront,</td>\n    </tr>\n    <tr>\n      <th>3</th>\n      <td>Downtown Toronto</td>\n      <td>M5A</td>\n      <td>Regent Park,</td>\n    </tr>\n    <tr>\n      <th>4</th>\n      <td>North York</td>\n      <td>M6A</td>\n      <td>Lawrence Heights,</td>\n    </tr>\n  </tbody>\n</table>\n</div>", 
                        "text/plain": "            Borough PostalCode      Neighbourhood\n0        North York        M3A         Parkwoods,\n1        North York        M4A  Victoria Village,\n2  Downtown Toronto        M5A      Harbourfront,\n3  Downtown Toronto        M5A       Regent Park,\n4        North York        M6A  Lawrence Heights,"
                    }, 
                    "output_type": "execute_result"
                }
            ], 
            "source": "cdf.head()"
        }, 
        {
            "execution_count": 69, 
            "cell_type": "code", 
            "metadata": {}, 
            "outputs": [], 
            "source": "ccdf = cdf.groupby(['PostalCode','Borough'],as_index=False,sort=False,).sum()"
        }, 
        {
            "execution_count": 88, 
            "cell_type": "code", 
            "metadata": {}, 
            "outputs": [
                {
                    "execution_count": 88, 
                    "metadata": {}, 
                    "data": {
                        "text/html": "<div>\n<style scoped>\n    .dataframe tbody tr th:only-of-type {\n        vertical-align: middle;\n    }\n\n    .dataframe tbody tr th {\n        vertical-align: top;\n    }\n\n    .dataframe thead th {\n        text-align: right;\n    }\n</style>\n<table border=\"1\" class=\"dataframe\">\n  <thead>\n    <tr style=\"text-align: right;\">\n      <th></th>\n      <th>PostalCode</th>\n      <th>Borough</th>\n      <th>Neighbourhood</th>\n    </tr>\n  </thead>\n  <tbody>\n    <tr>\n      <th>0</th>\n      <td>M3A</td>\n      <td>North York</td>\n      <td>Parkwoods,</td>\n    </tr>\n    <tr>\n      <th>1</th>\n      <td>M4A</td>\n      <td>North York</td>\n      <td>Victoria Village,</td>\n    </tr>\n    <tr>\n      <th>2</th>\n      <td>M5A</td>\n      <td>Downtown Toronto</td>\n      <td>Harbourfront,Regent Park,</td>\n    </tr>\n    <tr>\n      <th>3</th>\n      <td>M6A</td>\n      <td>North York</td>\n      <td>Lawrence Heights,Lawrence Manor,</td>\n    </tr>\n    <tr>\n      <th>4</th>\n      <td>M7A</td>\n      <td>Queen's Park</td>\n      <td>Queen's Park,</td>\n    </tr>\n    <tr>\n      <th>5</th>\n      <td>M9A</td>\n      <td>Etobicoke</td>\n      <td>Islington Avenue,</td>\n    </tr>\n    <tr>\n      <th>6</th>\n      <td>M1B</td>\n      <td>Scarborough</td>\n      <td>Rouge,Malvern,</td>\n    </tr>\n    <tr>\n      <th>7</th>\n      <td>M3B</td>\n      <td>North York</td>\n      <td>Don Mills North,</td>\n    </tr>\n    <tr>\n      <th>8</th>\n      <td>M4B</td>\n      <td>East York</td>\n      <td>Woodbine Gardens,Parkview Hill,</td>\n    </tr>\n    <tr>\n      <th>9</th>\n      <td>M5B</td>\n      <td>Downtown Toronto</td>\n      <td>Ryerson,Garden District,</td>\n    </tr>\n  </tbody>\n</table>\n</div>", 
                        "text/plain": "  PostalCode           Borough                     Neighbourhood\n0        M3A        North York                        Parkwoods,\n1        M4A        North York                 Victoria Village,\n2        M5A  Downtown Toronto         Harbourfront,Regent Park,\n3        M6A        North York  Lawrence Heights,Lawrence Manor,\n4        M7A      Queen's Park                     Queen's Park,\n5        M9A         Etobicoke                 Islington Avenue,\n6        M1B       Scarborough                    Rouge,Malvern,\n7        M3B        North York                  Don Mills North,\n8        M4B         East York   Woodbine Gardens,Parkview Hill,\n9        M5B  Downtown Toronto          Ryerson,Garden District,"
                    }, 
                    "output_type": "execute_result"
                }
            ], 
            "source": "ccdf.head(10)"
        }, 
        {
            "execution_count": 89, 
            "cell_type": "code", 
            "metadata": {}, 
            "outputs": [], 
            "source": "ccdf['Neighbourhood']=ccdf['Neighbourhood'].apply(lambda x: x[:-1])"
        }, 
        {
            "execution_count": 90, 
            "cell_type": "code", 
            "metadata": {}, 
            "outputs": [
                {
                    "execution_count": 90, 
                    "metadata": {}, 
                    "data": {
                        "text/html": "<div>\n<style scoped>\n    .dataframe tbody tr th:only-of-type {\n        vertical-align: middle;\n    }\n\n    .dataframe tbody tr th {\n        vertical-align: top;\n    }\n\n    .dataframe thead th {\n        text-align: right;\n    }\n</style>\n<table border=\"1\" class=\"dataframe\">\n  <thead>\n    <tr style=\"text-align: right;\">\n      <th></th>\n      <th>PostalCode</th>\n      <th>Borough</th>\n      <th>Neighbourhood</th>\n    </tr>\n  </thead>\n  <tbody>\n    <tr>\n      <th>0</th>\n      <td>M3A</td>\n      <td>North York</td>\n      <td>Parkwoods</td>\n    </tr>\n    <tr>\n      <th>1</th>\n      <td>M4A</td>\n      <td>North York</td>\n      <td>Victoria Village</td>\n    </tr>\n    <tr>\n      <th>2</th>\n      <td>M5A</td>\n      <td>Downtown Toronto</td>\n      <td>Harbourfront,Regent Park</td>\n    </tr>\n    <tr>\n      <th>3</th>\n      <td>M6A</td>\n      <td>North York</td>\n      <td>Lawrence Heights,Lawrence Manor</td>\n    </tr>\n    <tr>\n      <th>4</th>\n      <td>M7A</td>\n      <td>Queen's Park</td>\n      <td>Queen's Park</td>\n    </tr>\n  </tbody>\n</table>\n</div>", 
                        "text/plain": "  PostalCode           Borough                    Neighbourhood\n0        M3A        North York                        Parkwoods\n1        M4A        North York                 Victoria Village\n2        M5A  Downtown Toronto         Harbourfront,Regent Park\n3        M6A        North York  Lawrence Heights,Lawrence Manor\n4        M7A      Queen's Park                     Queen's Park"
                    }, 
                    "output_type": "execute_result"
                }
            ], 
            "source": "ccdf.head()"
        }, 
        {
            "execution_count": null, 
            "cell_type": "code", 
            "metadata": {}, 
            "outputs": [], 
            "source": ""
        }, 
        {
            "execution_count": null, 
            "cell_type": "code", 
            "metadata": {}, 
            "outputs": [], 
            "source": ""
        }, 
        {
            "execution_count": 51, 
            "cell_type": "code", 
            "metadata": {}, 
            "outputs": [
                {
                    "execution_count": 51, 
                    "metadata": {}, 
                    "data": {
                        "text/plain": "<pandas.core.groupby.DataFrameGroupBy object at 0x7f4ef467b4a8>"
                    }, 
                    "output_type": "execute_result"
                }
            ], 
            "source": ""
        }, 
        {
            "execution_count": null, 
            "cell_type": "code", 
            "metadata": {}, 
            "outputs": [], 
            "source": ""
        }
    ], 
    "metadata": {
        "kernelspec": {
            "display_name": "Python 3.5", 
            "name": "python3", 
            "language": "python"
        }, 
        "language_info": {
            "mimetype": "text/x-python", 
            "nbconvert_exporter": "python", 
            "version": "3.5.5", 
            "name": "python", 
            "file_extension": ".py", 
            "pygments_lexer": "ipython3", 
            "codemirror_mode": {
                "version": 3, 
                "name": "ipython"
            }
        }
    }, 
    "nbformat": 4
}