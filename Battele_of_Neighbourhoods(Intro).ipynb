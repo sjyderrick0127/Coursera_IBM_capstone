{
    "nbformat_minor": 1, 
    "cells": [
        {
            "source": "# Capstone Project -- Battle of Neighbourhoods Introduction", 
            "cell_type": "markdown", 
            "metadata": {
                "collapsed": true
            }
        }, 
        {
            "source": "## 1.0: Introduction:\n\n### Glouglou investment&Property consulting is a Toronto-based start-up focusing on providing specialized and customized consulting and agent services for people who intends to buy or rent a property. Due to intense market competitions, Glouglou decides to adopt data science techiniques including machine learning to offer a brand new recommendation system for its clients. \n### Recently, an old couple approached Glouglou. They wish to move from downtown Toronto to Scarborough and they have the following requirements.\n### 1.They want to keep their lifestyle as before, recommend neighbourhoods which are similar to their former one.(Central Bay Street)\n### 2.They want their neighbourhood has a sound Chinese restaurant.\n### 3.They want their neighbourhood has a asian grocery store.", 
            "cell_type": "markdown", 
            "metadata": {}
        }, 
        {
            "source": "## 1.1: Backgoround\n\n### ", 
            "cell_type": "markdown", 
            "metadata": {}
        }, 
        {
            "execution_count": null, 
            "cell_type": "code", 
            "metadata": {}, 
            "outputs": [], 
            "source": ""
        }, 
        {
            "execution_count": null, 
            "cell_type": "code", 
            "metadata": {}, 
            "outputs": [], 
            "source": ""
        }, 
        {
            "source": "## II: Data:\n\n### We will utilize neighbourhoods information of Toronto and Scarborough, Foursquare information on venue categories, top tips, location data, ratings to tackle this task. Neighbourhood information can be accessed through: https://en.wikipedia.org/wiki/List_of_postal_codes_of_Canada:_M \n### First requirement can be solved by applying K-means clustering to perform city segmentation. With the neighbourhoods being clustered into clusters, this task becomes finding the neighbourhoods within the same cluster as 'Central bay street'.\n### The Second and Third requirement can be solved by providing venue and ratings information from Foursquare API. The neighbourhoods with high ratings of chinese restanrants and asian grocery store will become our target ", 
            "cell_type": "markdown", 
            "metadata": {}
        }, 
        {
            "execution_count": null, 
            "cell_type": "code", 
            "metadata": {}, 
            "outputs": [], 
            "source": ""
        }
    ], 
    "metadata": {
        "kernelspec": {
            "display_name": "Python 3.5", 
            "name": "python3", 
            "language": "python"
        }, 
        "language_info": {
            "mimetype": "text/x-python", 
            "nbconvert_exporter": "python", 
            "version": "3.5.5", 
            "name": "python", 
            "file_extension": ".py", 
            "pygments_lexer": "ipython3", 
            "codemirror_mode": {
                "version": 3, 
                "name": "ipython"
            }
        }
    }, 
    "nbformat": 4
}